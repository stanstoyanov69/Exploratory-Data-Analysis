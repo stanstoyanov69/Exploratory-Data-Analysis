{
 "cells": [
  {
   "cell_type": "code",
   "execution_count": null,
   "metadata": {},
   "outputs": [],
   "source": [
    "#Importing the libraries and reading the csv file as a DataFrame\n",
    "\n",
    "import pandas as pd\n",
    "import numpy as np\n",
    "import matplotlib.pyplot as plt\n",
    "import seaborn as sns\n",
    "\n",
    "plt.style.use('ggplot')\n",
    "pd.set_option('display.max_colwidth',200)\n",
    "\n",
    "df = pd.read_csv(\"C:\\\\Users\\\\stans\\\\OneDrive\\\\Работен плот\\\\Exercises+and+Datasets\\\\financials.csv\")\n"
   ]
  },
  {
   "cell_type": "code",
   "execution_count": null,
   "metadata": {},
   "outputs": [],
   "source": [
    "# Understanding the Data\n",
    "df.shape\n",
    "df.head()\n",
    "df.tail()\n",
    "df.dtypes\n",
    "df.describe()"
   ]
  },
  {
   "cell_type": "markdown",
   "metadata": {},
   "source": [
    "Subsetting and checking for missing values or duplicated Data\n"
   ]
  },
  {
   "cell_type": "code",
   "execution_count": null,
   "metadata": {},
   "outputs": [],
   "source": [
    "df.columns\n",
    "df = df[['Symbol', 'Name', 'Sector', 'Price', 'Price/Earnings', 'Dividend Yield',\n",
    "       'Earnings/Share', '52 Week Low', '52 Week High', 'Market Cap',\n",
    "       'Price/Sales']].copy()\n",
    "df.rename(columns={'Symbol':'Ticker','Sector':'Industry','Price':'Price Share'})\n",
    "## Checking for missing or null values or duplicated data\n",
    "df.isna().sum()\n",
    "df.duplicated().sum()\n"
   ]
  },
  {
   "cell_type": "markdown",
   "metadata": {},
   "source": [
    "Some visualizations of the Data\n"
   ]
  },
  {
   "cell_type": "code",
   "execution_count": null,
   "metadata": {},
   "outputs": [],
   "source": [
    "#Top 10 Companies By Market Cap\n",
    "top_10_companies_by_cap = df.sort_values(by='Market Cap',ascending=False).head(10)\n",
    "top_10_companies_by_cap['Market Cap'].plot(kind='bar')\n",
    "plt.xlabel('Names')\n",
    "plt.ylabel('Market Cap in T')\n",
    "plt.title('Bar Chart of 10 biggest companies by Market Cap')\n",
    "plt.show()\n"
   ]
  },
  {
   "cell_type": "code",
   "execution_count": null,
   "metadata": {},
   "outputs": [],
   "source": [
    "#Top 10 Companies by share price\n",
    "share_price_top_10 = df.sort_values(by='Price',ascending=False).head(10)\n",
    "share_price_top_10.plot(x='Name', y='Price', kind='barh', color='skyblue',label='Price')\n",
    "plt.xlabel('Share Price')\n",
    "plt.ylabel('Company')\n",
    "plt.title('Most Expensive Share for a Company')\n"
   ]
  }
 ],
 "metadata": {
  "kernelspec": {
   "display_name": ".venv",
   "language": "python",
   "name": "python3"
  },
  "language_info": {
   "name": "python",
   "version": "3.11.4"
  }
 },
 "nbformat": 4,
 "nbformat_minor": 2
}
